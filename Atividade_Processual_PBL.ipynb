{
  "nbformat": 4,
  "nbformat_minor": 0,
  "metadata": {
    "colab": {
      "provenance": [],
      "authorship_tag": "ABX9TyOaYP/M93oD9WgE/O67/bru",
      "include_colab_link": true
    },
    "kernelspec": {
      "name": "python3",
      "display_name": "Python 3"
    },
    "language_info": {
      "name": "python"
    }
  },
  "cells": [
    {
      "cell_type": "markdown",
      "metadata": {
        "id": "view-in-github",
        "colab_type": "text"
      },
      "source": [
        "<a href=\"https://colab.research.google.com/github/Guh20/T-PICOS-DE-BIG-DATA-EM-PYTHON/blob/main/Atividade_Processual_PBL.ipynb\" target=\"_parent\"><img src=\"https://colab.research.google.com/assets/colab-badge.svg\" alt=\"Open In Colab\"/></a>"
      ]
    },
    {
      "cell_type": "code",
      "execution_count": 1,
      "metadata": {
        "id": "OzSf515y9AsD"
      },
      "outputs": [],
      "source": [
        "#Pacote python para configurar as variaveis\n",
        "\n",
        "import os"
      ]
    },
    {
      "cell_type": "code",
      "source": [
        "#import blibiote para converte a coluna para tipos numericos\n",
        "\n",
        "import pandas as pd"
      ],
      "metadata": {
        "id": "YRDaePZ-Ov3M"
      },
      "execution_count": 2,
      "outputs": []
    },
    {
      "cell_type": "code",
      "source": [
        "#Instalando pacote FindSpark\n",
        "\n",
        "!pip install findspark"
      ],
      "metadata": {
        "colab": {
          "base_uri": "https://localhost:8080/"
        },
        "id": "smEH1ShaIoeG",
        "outputId": "c0aab0c1-4702-4525-94df-14cea2eac6bb"
      },
      "execution_count": 3,
      "outputs": [
        {
          "output_type": "stream",
          "name": "stdout",
          "text": [
            "Collecting findspark\n",
            "  Downloading findspark-2.0.1-py2.py3-none-any.whl (4.4 kB)\n",
            "Installing collected packages: findspark\n",
            "Successfully installed findspark-2.0.1\n"
          ]
        }
      ]
    },
    {
      "cell_type": "code",
      "source": [
        "#Instalaçao do java\n",
        "\n",
        "!apt-get install openjdk-11-jdk-headless -qq > /dev/null"
      ],
      "metadata": {
        "id": "StPQPQCT-wCw"
      },
      "execution_count": 4,
      "outputs": []
    },
    {
      "cell_type": "code",
      "source": [
        "#Versao do Java\n",
        "\n",
        "! java --version\n"
      ],
      "metadata": {
        "colab": {
          "base_uri": "https://localhost:8080/"
        },
        "id": "SnA_Yrh8_MTQ",
        "outputId": "0884ae0d-6934-41a9-b322-a6547e6af395"
      },
      "execution_count": null,
      "outputs": [
        {
          "output_type": "stream",
          "name": "stdout",
          "text": [
            "openjdk 11.0.22 2024-01-16\n",
            "OpenJDK Runtime Environment (build 11.0.22+7-post-Ubuntu-0ubuntu222.04.1)\n",
            "OpenJDK 64-Bit Server VM (build 11.0.22+7-post-Ubuntu-0ubuntu222.04.1, mixed mode, sharing)\n"
          ]
        }
      ]
    },
    {
      "cell_type": "code",
      "source": [
        "#baixar  Apache SPARK\n",
        "\n",
        "\n",
        "! wget -q https://dlcdn.apache.org/spark/spark-3.5.1/spark-3.5.1-bin-hadoop3.tgz"
      ],
      "metadata": {
        "id": "d4l17gG-AwBg"
      },
      "execution_count": 5,
      "outputs": []
    },
    {
      "cell_type": "code",
      "source": [
        "#Descompactar Apache SPARK\n",
        "\n",
        "! tar -xf /content/spark-3.5.1-bin-hadoop3.tgz"
      ],
      "metadata": {
        "id": "HxshkXLQAovn"
      },
      "execution_count": 6,
      "outputs": []
    },
    {
      "cell_type": "code",
      "source": [
        "#Excluir zip spark\n",
        "\n",
        "!rm -rf /content/spark-3.5.1-bin-hadoop3.tgz"
      ],
      "metadata": {
        "id": "VZnDW3CaPZb0"
      },
      "execution_count": 7,
      "outputs": []
    },
    {
      "cell_type": "code",
      "source": [
        "!apt-get install openjdk-8-jdk-headless -qq > /dev/null"
      ],
      "metadata": {
        "id": "yyuk-7QOd5zI"
      },
      "execution_count": 8,
      "outputs": []
    },
    {
      "cell_type": "code",
      "source": [
        "#Configuraçoes das variaveis\n",
        "\n",
        "import os\n",
        "os.environ[\"JAVA_HOME\"] = \"/usr/lib/jvm/java-11-openjdk-amd64\"\n",
        "os.environ ['SPARK_HOME'] = \"/content/spark-3.5.1-bin-hadoop3\""
      ],
      "metadata": {
        "id": "PsGGkr91Ax6k"
      },
      "execution_count": 9,
      "outputs": []
    },
    {
      "cell_type": "code",
      "source": [
        "!pip install findspark"
      ],
      "metadata": {
        "colab": {
          "base_uri": "https://localhost:8080/"
        },
        "id": "5pingPHMNiZs",
        "outputId": "7772651a-6e55-47fd-cd28-3e9a4fa3bc60"
      },
      "execution_count": 10,
      "outputs": [
        {
          "output_type": "stream",
          "name": "stdout",
          "text": [
            "Requirement already satisfied: findspark in /usr/local/lib/python3.10/dist-packages (2.0.1)\n"
          ]
        }
      ]
    },
    {
      "cell_type": "code",
      "source": [
        "#Importando FindSpark\n",
        "\n",
        "import findspark\n",
        "\n",
        "findspark.init()\n",
        "\n",
        "#Criar Sessao Spark\n",
        "\n",
        "from pyspark.sql import SparkSession\n",
        "\n",
        "#Sessao Spark\n",
        "\n",
        "spark = SparkSession.builder.master(\"local[*]\").appName('Atividade01').getOrCreate()"
      ],
      "metadata": {
        "id": "xiClKO1-B6LH"
      },
      "execution_count": 11,
      "outputs": []
    },
    {
      "cell_type": "code",
      "source": [
        "df = spark.read.csv(\"/content/prouni.csv\")\n",
        "\n"
      ],
      "metadata": {
        "id": "PMjSdX9tRW_i"
      },
      "execution_count": 12,
      "outputs": []
    },
    {
      "cell_type": "code",
      "source": [
        "#Ler os numeros de Linhas e Colunas\n",
        "\n",
        "num_rows = df.count()\n",
        "num_cols = len(df.columns)\n",
        "\n",
        "#exibir os numreos de Linhas e Colunas\n",
        "\n",
        "print(f\"numeros de linhas: {num_rows}\")\n",
        "print(f\"Numeros de colunas: {num_cols}\")"
      ],
      "metadata": {
        "colab": {
          "base_uri": "https://localhost:8080/"
        },
        "id": "2B7BZNckASPN",
        "outputId": "7e01e028-b728-4edd-aefe-eaf327a10d8a"
      },
      "execution_count": 13,
      "outputs": [
        {
          "output_type": "stream",
          "name": "stdout",
          "text": [
            "numeros de linhas: 41448\n",
            "Numeros de colunas: 20\n"
          ]
        }
      ]
    },
    {
      "cell_type": "code",
      "source": [
        "#Exibir as Linhas do dataset\n",
        "\n",
        "df.show(10)"
      ],
      "metadata": {
        "colab": {
          "base_uri": "https://localhost:8080/"
        },
        "id": "NeS6afWcCRMS",
        "outputId": "8767685f-f115-4d8c-f855-6adc3834c713"
      },
      "execution_count": 14,
      "outputs": [
        {
          "output_type": "stream",
          "name": "stdout",
          "text": [
            "+-----------+--------+-----------+--------------------+--------------------+-------------------+-------------------+---------------+-----------+-------------------+--------+----------------+--------------------+--------------------+---------+----------+-------------------+-------------------+------------------+------------------+\n",
            "|        _c0|     _c1|        _c2|                 _c3|                 _c4|                _c5|                _c6|            _c7|        _c8|                _c9|    _c10|            _c11|                _c12|                _c13|     _c14|      _c15|               _c16|               _c17|              _c18|              _c19|\n",
            "+-----------+--------+-----------+--------------------+--------------------+-------------------+-------------------+---------------+-----------+-------------------+--------+----------------+--------------------+--------------------+---------+----------+-------------------+-------------------+------------------+------------------+\n",
            "|       grau|   turno|mensalidade|bolsa_integral_cotas|bolsa_integral_ampla|bolsa_parcial_cotas|bolsa_parcial_ampla|       curso_id|curso_busca|       cidade_busca|uf_busca|   cidade_filtro|   universidade_nome|         campus_nome|campus_id|      nome|nota_integral_ampla|nota_integral_cotas|nota_parcial_ampla|nota_parcial_cotas|\n",
            "|Bacharelado|Integral|    9999.99|                  15|                  14|               NULL|               NULL|   706710394154|   Medicina|       Campo Grande|      MS|NTAwMjAwNDAyNzA0|Universidade Anha...|CAMPO GRANDE - SE...|   706710|  Medicina|             740.22|             726.46|              NULL|              NULL|\n",
            "|Bacharelado| Noturno|     9836.4|                   1|                NULL|               NULL|               NULL|104191210567043| Enfermagem|            Crateus|      CE|MjMwNDAxODA0MTAz|Faculdade Princes...|UNIDADE SEDE - Sã...|  1041912|Enfermagem|             663.36|               NULL|              NULL|              NULL|\n",
            "|Bacharelado|Integral|    9715.61|                   2|                   5|                  6|                 10|  1002328574024|   Medicina|          Sao Paulo|      SP|MzUxNTA2MTUwMzA4|Universidade Cida...|UNIVERSIDADE CIDA...|  1002328|  Medicina|             739.62|             738.08|            738.96|            718.64|\n",
            "|Bacharelado| Noturno|    9689.34|                   3|                   2|               NULL|               NULL|104191212798093| Psicologia|            Crateus|      CE|MjMwNDAxODA0MTAz|Faculdade Princes...|UNIDADE SEDE - Sã...|  1041912|Psicologia|              651.0|             652.22|              NULL|              NULL|\n",
            "|Bacharelado|Integral|    9674.34|                   4|                   1|                  5|                  2| 65899611932754|   Medicina|         Rio Branco|      AC|MTIwMjAwNDAwNDAx|Faculdade Barão d...|CAMPUS  - RIO BRA...|   658996|  Medicina|             758.32|             723.94|            734.92|            711.26|\n",
            "|Bacharelado|Integral|     9650.0|                   8|                  15|               NULL|               NULL|    65781564964|   Medicina|Presidente Prudente|      SP|MzUwODAzNjQxNDA2|Universidade do O...|CAMPUS I  SEDE AD...|   657815|  Medicina|             738.92|             728.86|              NULL|              NULL|\n",
            "|Bacharelado|Integral|     9564.0|                   3|                   5|               NULL|               NULL|    65788486984|   Medicina|            Marilia|      SP|MzUwOTAzODI5MDA1|Universidade de M...|UNIDADE SEDE - Ca...|   657884|  Medicina|             744.16|              735.0|              NULL|              NULL|\n",
            "|Bacharelado|Integral|     9350.0|                   4|                   3|               NULL|               NULL| 65861111850254|   Medicina|   Sao Joao Del Rei|      MG|MzExMTA1ODYyNTAw|Centro Universitá...|UNIDADE SEDE (UNI...|   658611|  Medicina|             747.84|             736.68|              NULL|              NULL|\n",
            "|Bacharelado|Integral|     9208.0|                   7|                   5|               NULL|               NULL|   658099184724|   Medicina|             Cuiaba|      MT|NTEwNDAxNzAzNDAz|Universidade de C...|UNIC - BEIRA RIO ...|   658099|  Medicina|              735.4|             725.36|              NULL|              NULL|\n",
            "+-----------+--------+-----------+--------------------+--------------------+-------------------+-------------------+---------------+-----------+-------------------+--------+----------------+--------------------+--------------------+---------+----------+-------------------+-------------------+------------------+------------------+\n",
            "only showing top 10 rows\n",
            "\n"
          ]
        }
      ]
    },
    {
      "cell_type": "code",
      "source": [
        "#Exibir Schema\n",
        "\n",
        "df.printSchema()\n"
      ],
      "metadata": {
        "colab": {
          "base_uri": "https://localhost:8080/"
        },
        "id": "-zizOBt_Csm2",
        "outputId": "c2fb9956-ddd5-4cb3-9e00-d5946346074d"
      },
      "execution_count": 15,
      "outputs": [
        {
          "output_type": "stream",
          "name": "stdout",
          "text": [
            "root\n",
            " |-- _c0: string (nullable = true)\n",
            " |-- _c1: string (nullable = true)\n",
            " |-- _c2: string (nullable = true)\n",
            " |-- _c3: string (nullable = true)\n",
            " |-- _c4: string (nullable = true)\n",
            " |-- _c5: string (nullable = true)\n",
            " |-- _c6: string (nullable = true)\n",
            " |-- _c7: string (nullable = true)\n",
            " |-- _c8: string (nullable = true)\n",
            " |-- _c9: string (nullable = true)\n",
            " |-- _c10: string (nullable = true)\n",
            " |-- _c11: string (nullable = true)\n",
            " |-- _c12: string (nullable = true)\n",
            " |-- _c13: string (nullable = true)\n",
            " |-- _c14: string (nullable = true)\n",
            " |-- _c15: string (nullable = true)\n",
            " |-- _c16: string (nullable = true)\n",
            " |-- _c17: string (nullable = true)\n",
            " |-- _c18: string (nullable = true)\n",
            " |-- _c19: string (nullable = true)\n",
            "\n"
          ]
        }
      ]
    },
    {
      "cell_type": "code",
      "source": [
        "df.groupBy(\"_c2\").count().show(10)\n"
      ],
      "metadata": {
        "colab": {
          "base_uri": "https://localhost:8080/"
        },
        "id": "iEOOzz62Dmb_",
        "outputId": "4c90a81d-f780-4446-c278-2738dfb6c60e"
      },
      "execution_count": 16,
      "outputs": [
        {
          "output_type": "stream",
          "name": "stdout",
          "text": [
            "+-------+-----+\n",
            "|    _c2|count|\n",
            "+-------+-----+\n",
            "| 2494.2|    1|\n",
            "|2323.58|    1|\n",
            "| 2269.8|    2|\n",
            "|2078.98|    2|\n",
            "| 1974.0|    1|\n",
            "| 1496.0|    1|\n",
            "| 1409.6|    1|\n",
            "| 1350.9|    2|\n",
            "|1341.21|    1|\n",
            "| 1304.6|    3|\n",
            "+-------+-----+\n",
            "only showing top 10 rows\n",
            "\n"
          ]
        }
      ]
    },
    {
      "cell_type": "code",
      "source": [
        "#Importar Bibliotecas\n",
        "\n",
        "from pyspark.sql import SparkSession\n",
        "from pyspark.sql.functions import col, avg"
      ],
      "metadata": {
        "id": "vljdHazOFpat"
      },
      "execution_count": 17,
      "outputs": []
    },
    {
      "cell_type": "code",
      "source": [
        "#Criando sessao spark\n",
        "\n",
        "spark = SparkSession.builder.appName(\"listaprouni\").getOrCreate()"
      ],
      "metadata": {
        "id": "PiVERJkNFyYB"
      },
      "execution_count": 18,
      "outputs": []
    },
    {
      "cell_type": "code",
      "source": [
        "#Dados defenidos\n",
        "\n",
        "data = [\n",
        "    (\"Integral\", 9999.99, \"Medicina\"),\n",
        "    (\"Noturno\", 9836.4, \"Enfermagem\"),\n",
        "    (\"Integral\", 9715.61, \"Medicina\"),\n",
        "    (\"Noturno\", 9689.34, \"Psicologia\"),\n",
        "    (\"Integral\", 9674.34, \"Medicina\"),\n",
        "    (\"Integral\", 9650.0, \"Medicina\"),\n",
        "    (\"Integral\", 9564.0, \"Medicina\"),\n",
        "    (\"Integral\", 9350.0, \"Medicina\"),\n",
        "    (\"Integral\", 9208.0, \"Medicina\"),\n",
        "]"
      ],
      "metadata": {
        "id": "iNp1E1HnF5Mh"
      },
      "execution_count": 19,
      "outputs": []
    },
    {
      "cell_type": "code",
      "source": [
        "#Colunas defenidas\n",
        "\n",
        "\n",
        "columns = [\"turno\", \"mensalidade\", \"curso_busca\"]"
      ],
      "metadata": {
        "id": "vSSTPnD8PBK9"
      },
      "execution_count": 20,
      "outputs": []
    },
    {
      "cell_type": "code",
      "source": [
        "#Criando colunas agrupadas\n",
        "\n",
        "\n",
        "df = spark.createDataFrame(data, columns)"
      ],
      "metadata": {
        "id": "Grxb2hH8F7VR"
      },
      "execution_count": 21,
      "outputs": []
    },
    {
      "cell_type": "code",
      "source": [
        "#Exibindo as colunas\n",
        "\n",
        "\n",
        "print(\"DataFrame original:\")\n",
        "df.show()"
      ],
      "metadata": {
        "colab": {
          "base_uri": "https://localhost:8080/"
        },
        "id": "OFwfn7TdF-Ng",
        "outputId": "838dbb94-a961-4b30-f3f5-f396d7b1466f"
      },
      "execution_count": 22,
      "outputs": [
        {
          "output_type": "stream",
          "name": "stdout",
          "text": [
            "DataFrame original:\n",
            "+--------+-----------+-----------+\n",
            "|   turno|mensalidade|curso_busca|\n",
            "+--------+-----------+-----------+\n",
            "|Integral|    9999.99|   Medicina|\n",
            "| Noturno|     9836.4| Enfermagem|\n",
            "|Integral|    9715.61|   Medicina|\n",
            "| Noturno|    9689.34| Psicologia|\n",
            "|Integral|    9674.34|   Medicina|\n",
            "|Integral|     9650.0|   Medicina|\n",
            "|Integral|     9564.0|   Medicina|\n",
            "|Integral|     9350.0|   Medicina|\n",
            "|Integral|     9208.0|   Medicina|\n",
            "+--------+-----------+-----------+\n",
            "\n"
          ]
        }
      ]
    },
    {
      "cell_type": "code",
      "source": [
        "#Calcular a media da mensalidade\n",
        "\n",
        "\n",
        "df_media = df.groupBy(\"turno\").agg(avg(\"mensalidade\").alias(\"media_mensalidade\"))"
      ],
      "metadata": {
        "id": "BKg3Ud4EQ5wb"
      },
      "execution_count": 23,
      "outputs": []
    },
    {
      "cell_type": "code",
      "source": [
        "#Exibir a media\n",
        "\n",
        "\n",
        "print(\"Média da mensalidade por turno:\")\n",
        "df_media.show()"
      ],
      "metadata": {
        "colab": {
          "base_uri": "https://localhost:8080/"
        },
        "id": "xtV9pvtmRY-S",
        "outputId": "cd994b8f-c59a-4191-8871-a9405cc82034"
      },
      "execution_count": 24,
      "outputs": [
        {
          "output_type": "stream",
          "name": "stdout",
          "text": [
            "Média da mensalidade por turno:\n",
            "+--------+-----------------+\n",
            "|   turno|media_mensalidade|\n",
            "+--------+-----------------+\n",
            "|Integral|9594.562857142857|\n",
            "| Noturno|9762.869999999999|\n",
            "+--------+-----------------+\n",
            "\n"
          ]
        }
      ]
    },
    {
      "cell_type": "code",
      "source": [
        "#Inicializando o SparkSession\n",
        "\n",
        "\n",
        "spark = SparkSession.builder \\\n",
        "    .appName(\"Exemplo de Média\") \\\n",
        "    .getOrCreate()"
      ],
      "metadata": {
        "id": "xyoExu_BVltd"
      },
      "execution_count": 25,
      "outputs": []
    },
    {
      "cell_type": "code",
      "source": [
        "#Ler conjunto de dados\n",
        "\n",
        "\n",
        "max_mensalidade = df.agg({\"mensalidade\": \"max\"}).collect()[0][0]"
      ],
      "metadata": {
        "id": "y_uszidxVo5y"
      },
      "execution_count": 26,
      "outputs": []
    },
    {
      "cell_type": "code",
      "source": [
        "# Exibir valor máximo\n",
        "\n",
        "\n",
        "print(\"O valor máximo da coluna mensalidade é:\", max_mensalidade)"
      ],
      "metadata": {
        "colab": {
          "base_uri": "https://localhost:8080/"
        },
        "id": "cQ2cvj0WVsN6",
        "outputId": "743e47bd-1d7e-460d-dc62-43af70155663"
      },
      "execution_count": 27,
      "outputs": [
        {
          "output_type": "stream",
          "name": "stdout",
          "text": [
            "O valor máximo da coluna mensalidade é: 9999.99\n"
          ]
        }
      ]
    },
    {
      "cell_type": "code",
      "source": [
        "#Pesquisando o valor minimo\n",
        "\n",
        "\n",
        "min_mensalidade = df.agg({\"mensalidade\": \"min\"}).collect()[0][0]"
      ],
      "metadata": {
        "id": "upNdB0REXLXO"
      },
      "execution_count": 28,
      "outputs": []
    },
    {
      "cell_type": "code",
      "source": [
        "#exibir valor minimo\n",
        "\n",
        "\n",
        "print(\"O valor mínimo da coluna mensalidade é:\", min_mensalidade)\n"
      ],
      "metadata": {
        "colab": {
          "base_uri": "https://localhost:8080/"
        },
        "id": "LsDx4lt4XOCy",
        "outputId": "42e68207-6bea-41cd-8277-54ce08685d82"
      },
      "execution_count": 29,
      "outputs": [
        {
          "output_type": "stream",
          "name": "stdout",
          "text": [
            "O valor mínimo da coluna mensalidade é: 9208.0\n"
          ]
        }
      ]
    },
    {
      "cell_type": "code",
      "source": [
        "#soma da coluna mensalidade\n",
        "\n",
        "\n",
        "soma_mensalidade = df.agg({\"mensalidade\": \"sum\"}).collect()[0][0]"
      ],
      "metadata": {
        "id": "BdbGelSFXwmL"
      },
      "execution_count": 30,
      "outputs": []
    },
    {
      "cell_type": "code",
      "source": [
        "#Valor da soma\n",
        "\n",
        "\n",
        "print(\"O somatório da coluna mensalidade é:\", soma_mensalidade)"
      ],
      "metadata": {
        "colab": {
          "base_uri": "https://localhost:8080/"
        },
        "id": "phgI1h95X4k8",
        "outputId": "c76cb6c1-746b-41e8-ddd9-2224db85b052"
      },
      "execution_count": 31,
      "outputs": [
        {
          "output_type": "stream",
          "name": "stdout",
          "text": [
            "O somatório da coluna mensalidade é: 86687.68\n"
          ]
        }
      ]
    },
    {
      "cell_type": "code",
      "source": [
        "#Criando o DataFrame\n",
        "\n",
        "data = [\n",
        "    (\"Integral\", 9999.99, ),\n",
        "    (\"Noturno\", 9836.4, ),\n",
        "    (\"Integral\", 9715.61, ),\n",
        "    (\"Noturno\", 9689.34, ),\n",
        "    (\"Integral\", 9674.34, ),\n",
        "    (\"Integral\", 9650.0, ),\n",
        "    (\"Integral\", 9564.0, ),\n",
        "    (\"Integral\", 9350.0, ),\n",
        "    (\"Integral\", 9208.0, ),\n",
        "]\n",
        "#Definindo o DataFrame\n",
        "df = spark.createDataFrame(data, [\"turno\", \"mensalidade\"])"
      ],
      "metadata": {
        "id": "MsMMr_LMYkpj"
      },
      "execution_count": 32,
      "outputs": []
    },
    {
      "cell_type": "code",
      "source": [
        "#Inicializando o SparkSession\n",
        "\n",
        "spark = SparkSession.builder \\\n",
        "    .appName(\"Maior Inteiro\") \\\n",
        "    .getOrCreate()"
      ],
      "metadata": {
        "id": "95GeK-D6Y3Bq"
      },
      "execution_count": 33,
      "outputs": []
    },
    {
      "cell_type": "code",
      "source": [
        "#importando as bibliotecas\n",
        "\n",
        "from pyspark.sql import SparkSession\n",
        "spark = SparkSession.builder.master(\"local[*]\").getOrCreate()\n",
        "from pyspark.sql.functions import col, ceil, floor\n",
        "from pyspark.sql.functions import max as spark_max"
      ],
      "metadata": {
        "id": "SHkx2p1ram53"
      },
      "execution_count": 34,
      "outputs": []
    },
    {
      "cell_type": "code",
      "source": [
        "# Extraindo os valores inteiros\n",
        "\n",
        "df = df.withColumn(\"mensalidade_inteira\", floor(col(\"mensalidade\")))"
      ],
      "metadata": {
        "id": "YV7j8h1hZXgs"
      },
      "execution_count": 35,
      "outputs": []
    },
    {
      "cell_type": "code",
      "source": [
        "# Procurando o maior valor inteiro\n",
        "\n",
        "\n",
        "maior_inteiro = df.select(spark_max(\"mensalidade_inteira\")).collect()[0][0]"
      ],
      "metadata": {
        "id": "XmD_DCx_Z6Ck"
      },
      "execution_count": 36,
      "outputs": []
    },
    {
      "cell_type": "code",
      "source": [
        "#Resultado\n",
        "\n",
        "print(\"O maior valor inteiro da mensalidade é:\", maior_inteiro)"
      ],
      "metadata": {
        "colab": {
          "base_uri": "https://localhost:8080/"
        },
        "id": "D0GJv38ichPi",
        "outputId": "8f7d264a-7b67-4f7b-9852-e8660958b7d9"
      },
      "execution_count": 37,
      "outputs": [
        {
          "output_type": "stream",
          "name": "stdout",
          "text": [
            "O maior valor inteiro da mensalidade é: 9999\n"
          ]
        }
      ]
    },
    {
      "cell_type": "code",
      "source": [
        "#inicializando Spark\n",
        "\n",
        "spark = SparkSession.builder \\\n",
        "    .appName(\"Ordenação Decrescente\") \\\n",
        "    .getOrCreate()"
      ],
      "metadata": {
        "id": "vI_eURT6iLXk"
      },
      "execution_count": 58,
      "outputs": []
    },
    {
      "cell_type": "code",
      "source": [
        "#Criando dataframe\n",
        "\n",
        "\n",
        "data = [\n",
        "    (\"Integral\", 9999.99),\n",
        "    (\"Noturno\", 9836.4),\n",
        "    (\"Integral\", 9715.61),\n",
        "    (\"Noturno\", 9689.34),\n",
        "    (\"Integral\", 9674.34),\n",
        "    (\"Integral\", 9650.0),\n",
        "    (\"Integral\", 9564.0),\n",
        "    (\"Integral\", 9350.0),\n",
        "    (\"Integral\", 9208.0),\n",
        "]"
      ],
      "metadata": {
        "id": "9pEJ5CMZfVwO"
      },
      "execution_count": 45,
      "outputs": []
    },
    {
      "cell_type": "code",
      "source": [
        "#Definindo o DataFrame\n",
        "\n",
        "\n",
        "schema = [\"turno\", \"mensalidade\"]"
      ],
      "metadata": {
        "id": "rUGB7T0ifaS1"
      },
      "execution_count": 40,
      "outputs": []
    },
    {
      "cell_type": "code",
      "source": [
        "#Criando Dataframe\n",
        "\n",
        "\n",
        "df = spark.createDataFrame(data, schema)"
      ],
      "metadata": {
        "id": "AgiTukHKfjf1"
      },
      "execution_count": 41,
      "outputs": []
    },
    {
      "cell_type": "code",
      "source": [
        "#bibliotecas de ordenação decrescente.\n",
        "from pyspark.sql import SparkSession\n",
        "from pyspark.sql.functions import desc"
      ],
      "metadata": {
        "id": "RHlw8EUPmowR"
      },
      "execution_count": 56,
      "outputs": []
    },
    {
      "cell_type": "code",
      "source": [
        "#Funçao da ordem decrescente\n",
        "\n",
        "\n",
        "df_ordenado = df.orderBy(desc(\"mensalidade\"))"
      ],
      "metadata": {
        "id": "wkIfRL6Dfl92"
      },
      "execution_count": 54,
      "outputs": []
    },
    {
      "cell_type": "code",
      "source": [
        "#Exibir\n",
        "\n",
        "\n",
        "df_ordenado.show()"
      ],
      "metadata": {
        "colab": {
          "base_uri": "https://localhost:8080/"
        },
        "id": "Ej6udtANm3BF",
        "outputId": "2a7461c4-2315-4a53-f6dd-6a74cf5fd80b"
      },
      "execution_count": 55,
      "outputs": [
        {
          "output_type": "stream",
          "name": "stdout",
          "text": [
            "+--------+-----------+\n",
            "|   turno|mensalidade|\n",
            "+--------+-----------+\n",
            "|Integral|    9999.99|\n",
            "| Noturno|     9836.4|\n",
            "|Integral|    9715.61|\n",
            "| Noturno|    9689.34|\n",
            "|Integral|    9674.34|\n",
            "|Integral|     9650.0|\n",
            "|Integral|     9564.0|\n",
            "|Integral|     9350.0|\n",
            "|Integral|     9208.0|\n",
            "+--------+-----------+\n",
            "\n"
          ]
        }
      ]
    },
    {
      "cell_type": "code",
      "source": [
        "#Finalizando sessao\n",
        "\n",
        "\n",
        "spark.stop()"
      ],
      "metadata": {
        "id": "Ey-1XpRznUWx"
      },
      "execution_count": 57,
      "outputs": []
    },
    {
      "cell_type": "code",
      "source": [
        "# Inicializando o SparkSession\n",
        "spark = SparkSession.builder \\\n",
        "    .appName(\"Exemplo de Gráfico com Ordenação Decrescente\") \\\n",
        "    .getOrCreate()\n"
      ],
      "metadata": {
        "id": "ew2KLRBdocgi"
      },
      "execution_count": 59,
      "outputs": []
    },
    {
      "cell_type": "code",
      "source": [
        "# Importando as bibliotecas necessárias\n",
        "from pyspark.sql import SparkSession\n",
        "from pyspark.sql.functions import desc\n",
        "import matplotlib.pyplot as plt\n",
        "import numpy as np"
      ],
      "metadata": {
        "id": "IxSI2cDYo6aZ"
      },
      "execution_count": 70,
      "outputs": []
    },
    {
      "cell_type": "code",
      "source": [
        "# Criando os dados\n",
        "data = [\n",
        "    (\"Bacharelado\", \"Integral\", 9999.99),\n",
        "    (\"Bacharelado\", \"Noturno\", 9836.4),\n",
        "    (\"Bacharelado\", \"Integral\", 9715.61),\n",
        "    (\"Bacharelado\", \"Noturno\", 9689.34),\n",
        "    (\"Bacharelado\", \"Integral\", 9674.34),\n",
        "    (\"Bacharelado\", \"Integral\", 9650.0),\n",
        "    (\"Bacharelado\", \"Integral\", 9564.0),\n",
        "    (\"Bacharelado\", \"Integral\", 9350.0),\n",
        "    (\"Bacharelado\", \"Integral\", 9208.0),\n",
        "]"
      ],
      "metadata": {
        "id": "8OpCvbIhohRI"
      },
      "execution_count": 68,
      "outputs": []
    },
    {
      "cell_type": "code",
      "source": [
        "# Definindo o esquema do DataFrame\n",
        "schema = [\"grau\", \"turno\", \"mensalidade\"]\n"
      ],
      "metadata": {
        "id": "hC0jEbT5oj85"
      },
      "execution_count": 61,
      "outputs": []
    },
    {
      "cell_type": "code",
      "source": [
        "# Criando o DataFrame\n",
        "df = spark.createDataFrame(data, schema)"
      ],
      "metadata": {
        "id": "kPn_w2GUomiL"
      },
      "execution_count": 62,
      "outputs": []
    },
    {
      "cell_type": "code",
      "source": [
        "# Adicionando colunas numéricas aleatórias\n",
        "df = df.withColumn(\"nota_integral_ampla\", (df[\"mensalidade\"] * np.random.rand()))\n",
        "df = df.withColumn(\"nota_integral_cotas\", (df[\"mensalidade\"] * np.random.rand()))\n",
        "df = df.withColumn(\"outra_coluna\", (df[\"mensalidade\"] * np.random.rand()))"
      ],
      "metadata": {
        "id": "5XKlkg30qp3D"
      },
      "execution_count": 71,
      "outputs": []
    },
    {
      "cell_type": "code",
      "source": [
        "# Selecionando as colunas desejadas e ordenando o DataFrame em ordem decrescente pela coluna \"mensalidade\"\n",
        "df_ordenado = df.select(\"mensalidade\", \"nota_integral_ampla\", \"nota_integral_cotas\").orderBy(desc(\"mensalidade\"))"
      ],
      "metadata": {
        "id": "rJCHrsmdopHy"
      },
      "execution_count": 72,
      "outputs": []
    },
    {
      "cell_type": "code",
      "source": [
        "# Convertendo o DataFrame para DataFrame do Pandas\n",
        "df_pandas = df_ordenado.toPandas()\n"
      ],
      "metadata": {
        "id": "Qi-FCG6porIh"
      },
      "execution_count": 73,
      "outputs": []
    },
    {
      "cell_type": "code",
      "source": [
        "# Criando o gráfico de barras\n",
        "plt.figure(figsize=(12, 8))\n",
        "plt.bar(df_pandas.index, df_pandas[\"mensalidade\"], label='Mensalidade', color='skyblue', alpha=0.7)\n",
        "plt.bar(df_pandas.index, df_pandas[\"nota_integral_ampla\"], label='Nota Integral Ampla', color='lightgreen', alpha=0.7)\n",
        "plt.bar(df_pandas.index, df_pandas[\"nota_integral_cotas\"], label='Nota Integral Cotas', color='lightcoral', alpha=0.7)\n",
        "plt.xlabel('Índice')\n",
        "plt.ylabel('Valores')\n",
        "plt.title('Mensalidades e Notas Ordenadas Decrescentemente')\n",
        "plt.legend()\n",
        "plt.show()"
      ],
      "metadata": {
        "colab": {
          "base_uri": "https://localhost:8080/",
          "height": 634
        },
        "id": "48QDwb03otFB",
        "outputId": "b79797d4-68ce-4a65-e557-0a3426cf83da"
      },
      "execution_count": 74,
      "outputs": [
        {
          "output_type": "display_data",
          "data": {
            "text/plain": [
              "<Figure size 1200x800 with 1 Axes>"
            ],
            "image/png": "[encoded data removed]"
          },
          "metadata": {}
        }
      ]
    },
    {
      "cell_type": "code",
      "source": [
        "# Finalizando a sessão Spark\n",
        "spark.stop()"
      ],
      "metadata": {
        "id": "9FD9ucj2rFnL"
      },
      "execution_count": 75,
      "outputs": []
    }
  ]
}